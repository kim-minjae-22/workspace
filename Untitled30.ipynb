{
  "nbformat": 4,
  "nbformat_minor": 0,
  "metadata": {
    "colab": {
      "provenance": [],
      "authorship_tag": "ABX9TyPG/2F4XF96Z8q86h/vvmub",
      "include_colab_link": true
    },
    "kernelspec": {
      "name": "python3",
      "display_name": "Python 3"
    },
    "language_info": {
      "name": "python"
    }
  },
  "cells": [
    {
      "cell_type": "markdown",
      "metadata": {
        "id": "view-in-github",
        "colab_type": "text"
      },
      "source": [
        "<a href=\"https://colab.research.google.com/github/kim-minjae-22/workspace/blob/main/Untitled30.ipynb\" target=\"_parent\"><img src=\"https://colab.research.google.com/assets/colab-badge.svg\" alt=\"Open In Colab\"/></a>"
      ]
    },
    {
      "cell_type": "code",
      "execution_count": 1,
      "metadata": {
        "colab": {
          "base_uri": "https://localhost:8080/"
        },
        "id": "_S9QeNNNcCvR",
        "outputId": "f3a60b54-ee7e-45ac-e575-600d0e4c48c7"
      },
      "outputs": [
        {
          "output_type": "stream",
          "name": "stdout",
          "text": [
            "Get:1 https://cloud.r-project.org/bin/linux/ubuntu jammy-cran40/ InRelease [3,626 B]\n",
            "Get:2 https://developer.download.nvidia.com/compute/cuda/repos/ubuntu2204/x86_64  InRelease [1,581 B]\n",
            "Hit:3 http://archive.ubuntu.com/ubuntu jammy InRelease\n",
            "Get:4 http://security.ubuntu.com/ubuntu jammy-security InRelease [129 kB]\n",
            "Get:5 https://r2u.stat.illinois.edu/ubuntu jammy InRelease [6,555 B]\n",
            "Get:6 http://archive.ubuntu.com/ubuntu jammy-updates InRelease [128 kB]\n",
            "Hit:7 https://ppa.launchpadcontent.net/deadsnakes/ppa/ubuntu jammy InRelease\n",
            "Hit:8 https://ppa.launchpadcontent.net/graphics-drivers/ppa/ubuntu jammy InRelease\n",
            "Get:9 https://developer.download.nvidia.com/compute/cuda/repos/ubuntu2204/x86_64  Packages [1,185 kB]\n",
            "Get:10 http://archive.ubuntu.com/ubuntu jammy-backports InRelease [127 kB]\n",
            "Hit:11 https://ppa.launchpadcontent.net/ubuntugis/ppa/ubuntu jammy InRelease\n",
            "Get:12 https://r2u.stat.illinois.edu/ubuntu jammy/main amd64 Packages [2,619 kB]\n",
            "Get:13 https://r2u.stat.illinois.edu/ubuntu jammy/main all Packages [8,514 kB]\n",
            "Get:14 http://security.ubuntu.com/ubuntu jammy-security/main amd64 Packages [2,454 kB]\n",
            "Get:15 http://security.ubuntu.com/ubuntu jammy-security/universe amd64 Packages [1,224 kB]\n",
            "Get:16 http://archive.ubuntu.com/ubuntu jammy-updates/universe amd64 Packages [1,513 kB]\n",
            "Get:17 http://archive.ubuntu.com/ubuntu jammy-updates/main amd64 Packages [2,738 kB]\n",
            "Get:18 http://archive.ubuntu.com/ubuntu jammy-backports/universe amd64 Packages [33.8 kB]\n",
            "Fetched 20.7 MB in 7s (3,086 kB/s)\n",
            "Reading package lists... Done\n",
            "W: Skipping acquire of configured file 'main/source/Sources' as repository 'https://r2u.stat.illinois.edu/ubuntu jammy InRelease' does not seem to provide it (sources.list entry misspelt?)\n",
            "Reading package lists... Done\n",
            "Building dependency tree... Done\n",
            "Reading state information... Done\n",
            "ffmpeg is already the newest version (7:4.4.2-0ubuntu0.22.04.1).\n",
            "0 upgraded, 0 newly installed, 0 to remove and 59 not upgraded.\n",
            "Collecting pytube\n",
            "  Downloading pytube-15.0.0-py3-none-any.whl.metadata (5.0 kB)\n",
            "Requirement already satisfied: moviepy in /usr/local/lib/python3.10/dist-packages (1.0.3)\n",
            "Collecting speechrecognition\n",
            "  Downloading SpeechRecognition-3.11.0-py2.py3-none-any.whl.metadata (28 kB)\n",
            "Requirement already satisfied: decorator<5.0,>=4.0.2 in /usr/local/lib/python3.10/dist-packages (from moviepy) (4.4.2)\n",
            "Requirement already satisfied: imageio<3.0,>=2.5 in /usr/local/lib/python3.10/dist-packages (from moviepy) (2.36.0)\n",
            "Requirement already satisfied: imageio_ffmpeg>=0.2.0 in /usr/local/lib/python3.10/dist-packages (from moviepy) (0.5.1)\n",
            "Requirement already satisfied: tqdm<5.0,>=4.11.2 in /usr/local/lib/python3.10/dist-packages (from moviepy) (4.66.6)\n",
            "Requirement already satisfied: numpy>=1.17.3 in /usr/local/lib/python3.10/dist-packages (from moviepy) (1.26.4)\n",
            "Requirement already satisfied: requests<3.0,>=2.8.1 in /usr/local/lib/python3.10/dist-packages (from moviepy) (2.32.3)\n",
            "Requirement already satisfied: proglog<=1.0.0 in /usr/local/lib/python3.10/dist-packages (from moviepy) (0.1.10)\n",
            "Requirement already satisfied: typing-extensions in /usr/local/lib/python3.10/dist-packages (from speechrecognition) (4.12.2)\n",
            "Requirement already satisfied: pillow>=8.3.2 in /usr/local/lib/python3.10/dist-packages (from imageio<3.0,>=2.5->moviepy) (11.0.0)\n",
            "Requirement already satisfied: setuptools in /usr/local/lib/python3.10/dist-packages (from imageio_ffmpeg>=0.2.0->moviepy) (75.1.0)\n",
            "Requirement already satisfied: charset-normalizer<4,>=2 in /usr/local/lib/python3.10/dist-packages (from requests<3.0,>=2.8.1->moviepy) (3.4.0)\n",
            "Requirement already satisfied: idna<4,>=2.5 in /usr/local/lib/python3.10/dist-packages (from requests<3.0,>=2.8.1->moviepy) (3.10)\n",
            "Requirement already satisfied: urllib3<3,>=1.21.1 in /usr/local/lib/python3.10/dist-packages (from requests<3.0,>=2.8.1->moviepy) (2.2.3)\n",
            "Requirement already satisfied: certifi>=2017.4.17 in /usr/local/lib/python3.10/dist-packages (from requests<3.0,>=2.8.1->moviepy) (2024.8.30)\n",
            "Downloading pytube-15.0.0-py3-none-any.whl (57 kB)\n",
            "\u001b[2K   \u001b[90m━━━━━━━━━━━━━━━━━━━━━━━━━━━━━━━━━━━━━━━━\u001b[0m \u001b[32m57.6/57.6 kB\u001b[0m \u001b[31m3.8 MB/s\u001b[0m eta \u001b[36m0:00:00\u001b[0m\n",
            "\u001b[?25hDownloading SpeechRecognition-3.11.0-py2.py3-none-any.whl (32.8 MB)\n",
            "\u001b[2K   \u001b[90m━━━━━━━━━━━━━━━━━━━━━━━━━━━━━━━━━━━━━━━━\u001b[0m \u001b[32m32.8/32.8 MB\u001b[0m \u001b[31m34.6 MB/s\u001b[0m eta \u001b[36m0:00:00\u001b[0m\n",
            "\u001b[?25hInstalling collected packages: pytube, speechrecognition\n",
            "Successfully installed pytube-15.0.0 speechrecognition-3.11.0\n"
          ]
        }
      ],
      "source": [
        "# 필수 라이브러리 설치\n",
        "!apt-get update\n",
        "!apt-get install -y ffmpeg\n",
        "!pip install pytube moviepy speechrecognition"
      ]
    },
    {
      "cell_type": "code",
      "source": [
        "!pip install --upgrade pytube"
      ],
      "metadata": {
        "colab": {
          "base_uri": "https://localhost:8080/"
        },
        "id": "05DuXRRzdOlt",
        "outputId": "8119592c-4a90-4623-b35c-86a2962e282d"
      },
      "execution_count": 3,
      "outputs": [
        {
          "output_type": "stream",
          "name": "stdout",
          "text": [
            "Requirement already satisfied: pytube in /usr/local/lib/python3.10/dist-packages (15.0.0)\n"
          ]
        }
      ]
    },
    {
      "cell_type": "code",
      "source": [
        "!pip install yt-dlp\n"
      ],
      "metadata": {
        "colab": {
          "base_uri": "https://localhost:8080/"
        },
        "id": "IsAIbZEadP5b",
        "outputId": "cc202c8b-0fd7-4a20-8fa0-fed54be480a9"
      },
      "execution_count": 4,
      "outputs": [
        {
          "output_type": "stream",
          "name": "stdout",
          "text": [
            "Collecting yt-dlp\n",
            "  Downloading yt_dlp-2024.11.18-py3-none-any.whl.metadata (172 kB)\n",
            "\u001b[?25l     \u001b[90m━━━━━━━━━━━━━━━━━━━━━━━━━━━━━━━━━━━━━━━━\u001b[0m \u001b[32m0.0/172.1 kB\u001b[0m \u001b[31m?\u001b[0m eta \u001b[36m-:--:--\u001b[0m\r\u001b[2K     \u001b[91m━━━━━━━━━━━━━━━━━━━━━━━━━━━━━━━━━━━━━━\u001b[0m\u001b[90m╺\u001b[0m\u001b[90m━\u001b[0m \u001b[32m163.8/172.1 kB\u001b[0m \u001b[31m5.1 MB/s\u001b[0m eta \u001b[36m0:00:01\u001b[0m\r\u001b[2K     \u001b[90m━━━━━━━━━━━━━━━━━━━━━━━━━━━━━━━━━━━━━━━━\u001b[0m \u001b[32m172.1/172.1 kB\u001b[0m \u001b[31m3.9 MB/s\u001b[0m eta \u001b[36m0:00:00\u001b[0m\n",
            "\u001b[?25hDownloading yt_dlp-2024.11.18-py3-none-any.whl (3.2 MB)\n",
            "\u001b[2K   \u001b[90m━━━━━━━━━━━━━━━━━━━━━━━━━━━━━━━━━━━━━━━━\u001b[0m \u001b[32m3.2/3.2 MB\u001b[0m \u001b[31m50.0 MB/s\u001b[0m eta \u001b[36m0:00:00\u001b[0m\n",
            "\u001b[?25hInstalling collected packages: yt-dlp\n",
            "Successfully installed yt-dlp-2024.11.18\n"
          ]
        }
      ]
    },
    {
      "cell_type": "code",
      "source": [
        "import yt_dlp\n",
        "\n",
        "def download_youtube_video(youtube_url, output_path=\"youtube_video.mp4\"):\n",
        "    ydl_opts = {\n",
        "        'format': 'best',\n",
        "        'outtmpl': output_path,\n",
        "    }\n",
        "    with yt_dlp.YoutubeDL(ydl_opts) as ydl:\n",
        "        print(\"다운로드 중...\")\n",
        "        ydl.download([youtube_url])\n",
        "    print(f\"다운로드 완료: {output_path}\")\n",
        "    return output_path\n",
        "\n",
        "# 예제 URL\n",
        "youtube_url = \"https://www.youtube.com/watch?v=Bewx5947ibA\"  # 동영상 URL을 여기에 입력하세요\n",
        "video_path = download_youtube_video(youtube_url)"
      ],
      "metadata": {
        "colab": {
          "base_uri": "https://localhost:8080/"
        },
        "id": "2ppv0LjbdSoL",
        "outputId": "2ff14631-4ea8-4a38-8b8c-768bc57bb35f"
      },
      "execution_count": 5,
      "outputs": [
        {
          "output_type": "stream",
          "name": "stdout",
          "text": [
            "다운로드 중...\n",
            "[youtube] Extracting URL: https://www.youtube.com/watch?v=Bewx5947ibA\n",
            "[youtube] Bewx5947ibA: Downloading webpage\n",
            "[youtube] Bewx5947ibA: Downloading ios player API JSON\n",
            "[youtube] Bewx5947ibA: Downloading mweb player API JSON\n",
            "[youtube] Bewx5947ibA: Downloading player b46bb280\n",
            "[youtube] Bewx5947ibA: Downloading m3u8 information\n",
            "[info] Bewx5947ibA: Downloading 1 format(s): 18\n",
            "[download] Destination: youtube_video.mp4\n",
            "[download] 100% of  202.89MiB in 00:01:09 at 2.92MiB/s   \n",
            "다운로드 완료: youtube_video.mp4\n"
          ]
        }
      ]
    },
    {
      "cell_type": "code",
      "source": [
        "import os\n",
        "from moviepy.editor import VideoFileClip\n",
        "import speech_recognition as sr\n",
        "\n",
        "# 프레임 추출\n",
        "def extract_frames(video_path, output_dir=\"frames\", frame_interval=30):\n",
        "    if not os.path.exists(output_dir):\n",
        "        os.makedirs(output_dir)\n",
        "\n",
        "    clip = VideoFileClip(video_path)\n",
        "    fps = clip.fps\n",
        "    frame_count = int(clip.duration * fps)\n",
        "\n",
        "    for i in range(0, frame_count, frame_interval):\n",
        "        frame = clip.get_frame(i / fps)\n",
        "        frame_path = f\"{output_dir}/frame_{i}.jpg\"\n",
        "        clip.save_frame(frame_path, t=i / fps)\n",
        "\n",
        "    print(f\"프레임 추출 완료. 총 {len(os.listdir(output_dir))}개의 프레임이 저장되었습니다.\")\n",
        "\n",
        "# 오디오 추출 및 텍스트 변환\n",
        "def extract_audio_and_transcribe(video_path, audio_path=\"audio.wav\"):\n",
        "    # 오디오 추출\n",
        "    clip = VideoFileClip(video_path)\n",
        "    clip.audio.write_audiofile(audio_path)\n",
        "    print(f\"오디오 추출 완료: {audio_path}\")\n",
        "\n",
        "    # 텍스트 변환\n",
        "    recognizer = sr.Recognizer()\n",
        "    with sr.AudioFile(audio_path) as source:\n",
        "        print(\"오디오 텍스트 변환 중...\")\n",
        "        audio_data = recognizer.record(source)\n",
        "\n",
        "    try:\n",
        "        transcript = recognizer.recognize_google(audio_data, language=\"ko-KR\")\n",
        "        print(\"텍스트 변환 완료!\")\n",
        "        return transcript\n",
        "    except sr.UnknownValueError:\n",
        "        print(\"오디오를 이해할 수 없습니다.\")\n",
        "        return None\n",
        "    except sr.RequestError:\n",
        "        print(\"음성 인식 서비스를 사용할 수 없습니다.\")\n",
        "        return None\n",
        "\n",
        "# 동영상 처리\n",
        "def process_video(video_path, output_dir=\"frames\"):\n",
        "    # 1. 프레임 추출\n",
        "    extract_frames(video_path, output_dir)\n",
        "\n",
        "    # 2. 오디오 추출 및 텍스트 변환\n",
        "    transcript = extract_audio_and_transcribe(video_path)\n",
        "\n",
        "    if transcript:\n",
        "        print(\"변환된 텍스트:\\n\", transcript)\n",
        "    else:\n",
        "        print(\"텍스트 변환 실패.\")\n",
        "\n",
        "    return transcript\n",
        "\n",
        "# 다운로드한 동영상 경로\n",
        "video_path = \"youtube_video.mp4\"  # 다운로드한 동영상 파일 경로\n",
        "\n",
        "# 동영상 처리 실행\n",
        "transcript = process_video(video_path)\n",
        "\n",
        "# 텍스트 출력 (요약 등)\n",
        "if transcript:\n",
        "    print(\"최종 텍스트:\\n\", transcript)\n"
      ],
      "metadata": {
        "colab": {
          "base_uri": "https://localhost:8080/"
        },
        "id": "lj9QI1PBdY0D",
        "outputId": "8b9bcc9f-f3be-466e-f527-b84b0f100d26"
      },
      "execution_count": 6,
      "outputs": [
        {
          "output_type": "stream",
          "name": "stderr",
          "text": [
            "WARNING:py.warnings:/usr/local/lib/python3.10/dist-packages/moviepy/video/io/sliders.py:61: SyntaxWarning: \"is\" with a literal. Did you mean \"==\"?\n",
            "  if event.key is 'enter':\n",
            "\n"
          ]
        },
        {
          "output_type": "stream",
          "name": "stdout",
          "text": [
            "프레임 추출 완료. 총 2020개의 프레임이 저장되었습니다.\n",
            "MoviePy - Writing audio in audio.wav\n"
          ]
        },
        {
          "output_type": "stream",
          "name": "stderr",
          "text": []
        },
        {
          "output_type": "stream",
          "name": "stdout",
          "text": [
            "MoviePy - Done.\n",
            "오디오 추출 완료: audio.wav\n",
            "오디오 텍스트 변환 중...\n",
            "음성 인식 서비스를 사용할 수 없습니다.\n",
            "텍스트 변환 실패.\n"
          ]
        }
      ]
    },
    {
      "cell_type": "code",
      "source": [
        "def extract_audio_and_transcribe_sphinx(video_path, audio_path=\"audio.wav\"):\n",
        "    # 오디오 추출\n",
        "    clip = VideoFileClip(video_path)\n",
        "    clip.audio.write_audiofile(audio_path)\n",
        "    print(f\"오디오 추출 완료: {audio_path}\")\n",
        "\n",
        "    # 텍스트 변환 (Sphinx 사용)\n",
        "    recognizer = sr.Recognizer()\n",
        "    with sr.AudioFile(audio_path) as source:\n",
        "        print(\"오디오 텍스트 변환 중...\")\n",
        "        audio_data = recognizer.record(source)\n",
        "\n",
        "    try:\n",
        "        transcript = recognizer.recognize_sphinx(audio_data)\n",
        "        print(\"텍스트 변환 완료!\")\n",
        "        return transcript\n",
        "    except sr.UnknownValueError:\n",
        "        print(\"오디오를 이해할 수 없습니다.\")\n",
        "        return None\n",
        "    except sr.RequestError:\n",
        "        print(\"음성 인식 서비스를 사용할 수 없습니다.\")\n",
        "        return None\n",
        "\n",
        "# Sphinx로 텍스트 변환\n",
        "transcript = extract_audio_and_transcribe_sphinx(video_path)\n"
      ],
      "metadata": {
        "colab": {
          "base_uri": "https://localhost:8080/"
        },
        "id": "F1NjQQIOmz7k",
        "outputId": "805d2df1-a80f-4fa7-f41e-78946aebd537"
      },
      "execution_count": 7,
      "outputs": [
        {
          "output_type": "stream",
          "name": "stdout",
          "text": [
            "MoviePy - Writing audio in audio.wav\n"
          ]
        },
        {
          "output_type": "stream",
          "name": "stderr",
          "text": []
        },
        {
          "output_type": "stream",
          "name": "stdout",
          "text": [
            "MoviePy - Done.\n",
            "오디오 추출 완료: audio.wav\n",
            "오디오 텍스트 변환 중...\n",
            "음성 인식 서비스를 사용할 수 없습니다.\n"
          ]
        }
      ]
    },
    {
      "cell_type": "code",
      "source": [
        "def extract_audio_and_transcribe_sphinx(video_path, audio_path=\"audio.wav\"):\n",
        "    # 오디오 추출\n",
        "    clip = VideoFileClip(video_path)\n",
        "    clip.audio.write_audiofile(audio_path)\n",
        "    print(f\"오디오 추출 완료: {audio_path}\")\n",
        "\n",
        "    # 텍스트 변환 (Sphinx 사용)\n",
        "    recognizer = sr.Recognizer()\n",
        "    with sr.AudioFile(audio_path) as source:\n",
        "        print(\"오디오 텍스트 변환 중...\")\n",
        "        audio_data = recognizer.record(source)\n",
        "\n",
        "    try:\n",
        "        transcript = recognizer.recognize_sphinx(audio_data)\n",
        "        print(\"텍스트 변환 완료!\")\n",
        "        return transcript\n",
        "    except sr.UnknownValueError:\n",
        "        print(\"오디오를 이해할 수 없습니다.\")\n",
        "        return None\n",
        "    except sr.RequestError:\n",
        "        print(\"음성 인식 서비스를 사용할 수 없습니다.\")\n",
        "        return None\n",
        "\n",
        "# Sphinx로 텍스트 변환\n",
        "transcript = extract_audio_and_transcribe_sphinx(\"youtube_video.mp4\")\n",
        "print(\"변환된 텍스트:\", transcript)\n"
      ],
      "metadata": {
        "colab": {
          "base_uri": "https://localhost:8080/"
        },
        "id": "AfU3zCMXnD9s",
        "outputId": "b1f31dab-1c92-48a7-d83c-4c354143d00e"
      },
      "execution_count": 8,
      "outputs": [
        {
          "output_type": "stream",
          "name": "stdout",
          "text": [
            "MoviePy - Writing audio in audio.wav\n"
          ]
        },
        {
          "output_type": "stream",
          "name": "stderr",
          "text": []
        },
        {
          "output_type": "stream",
          "name": "stdout",
          "text": [
            "MoviePy - Done.\n",
            "오디오 추출 완료: audio.wav\n",
            "오디오 텍스트 변환 중...\n",
            "음성 인식 서비스를 사용할 수 없습니다.\n",
            "변환된 텍스트: None\n"
          ]
        }
      ]
    }
  ]
}